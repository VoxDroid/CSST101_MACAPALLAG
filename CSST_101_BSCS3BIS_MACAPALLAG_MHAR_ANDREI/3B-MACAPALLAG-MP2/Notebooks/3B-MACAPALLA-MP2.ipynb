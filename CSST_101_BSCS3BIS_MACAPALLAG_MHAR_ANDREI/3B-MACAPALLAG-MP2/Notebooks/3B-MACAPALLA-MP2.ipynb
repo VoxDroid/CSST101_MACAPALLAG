{
  "nbformat": 4,
  "nbformat_minor": 0,
  "metadata": {
    "colab": {
      "provenance": []
    },
    "kernelspec": {
      "name": "python3",
      "display_name": "Python 3"
    },
    "language_info": {
      "name": "python"
    }
  },
  "cells": [
    {
      "cell_type": "markdown",
      "source": [
        "- **Name:** Mhar Andrei Consebido Macapallag\n",
        "- **Y&S:** BSCS 3B IS\n",
        "- **Course:** CCST 101 | Advance Representation and Reasoning\n",
        "- **Topic:** Topic 1.2: Logic-Based Representation\n",
        "- **Due date:** September 02, 2024\n",
        "\n",
        "# Machine Problem #2: Implementing a Logic-Based Model in Python"
      ],
      "metadata": {
        "id": "fFXL3cmqJLi_"
      }
    },
    {
      "cell_type": "code",
      "execution_count": 2,
      "metadata": {
        "id": "q3paKt9c_YRw"
      },
      "outputs": [],
      "source": [
        "#@title # **1. Propositional Logic Operations**\n",
        "#@markdown # **Explanation:**\n",
        "#@markdown - In propositional logic, these basic operations allow us to combine and manipulate truth values. For instance, `and_operation(p, q)` returns `True` only if both `p` and `q` are `True`. Similarly, `implies_operation(p, q)` returns `True` unless `p` is `True` and `q` is `False`.\n",
        "\n",
        "# Logical AND (∧)\n",
        "def and_operation(p, q):\n",
        "    \"\"\"\n",
        "    Perform logical conjunction (AND) on two boolean values.\n",
        "\n",
        "    :param p: bool, first operand.\n",
        "    :param q: bool, second operand.\n",
        "    :return: bool, result of p AND q.\n",
        "    \"\"\"\n",
        "    return p and q\n",
        "\n",
        "# Logical OR (∨)\n",
        "def or_operation(p, q):\n",
        "    \"\"\"\n",
        "    Perform logical disjunction (OR) on two boolean values.\n",
        "\n",
        "    :param p: bool, first operand.\n",
        "    :param q: bool, second operand.\n",
        "    :return: bool, result of p OR q.\n",
        "    \"\"\"\n",
        "    return p or q\n",
        "\n",
        "# Logical NOT (¬)\n",
        "def not_operation(p):\n",
        "    \"\"\"\n",
        "    Perform logical negation (NOT) on a boolean value.\n",
        "\n",
        "    :param p: bool, operand.\n",
        "    :return: bool, result of NOT p.\n",
        "    \"\"\"\n",
        "    return not p\n",
        "\n",
        "# Logical IMPLIES (→)\n",
        "def implies_operation(p, q):\n",
        "    \"\"\"\n",
        "    Perform logical implication (p → q).\n",
        "\n",
        "    :param p: bool, antecedent.\n",
        "    :param q: bool, consequent.\n",
        "    :return: bool, result of p IMPLIES q.\n",
        "    \"\"\"\n",
        "    return not p or q\n"
      ]
    },
    {
      "cell_type": "code",
      "source": [
        "#@title **1. Propositional Logic Operations (Example Usage)**\n",
        "#@markdown # **Values:**\n",
        "p = \"True\" #@param [\"True\"] {allow-input: false}\n",
        "p_value = p\n",
        "q = \"False\" #@param [\"False\"] {allow-input: false}\n",
        "q_value = q\n",
        "\n",
        "#@markdown - ### Expected outputs:\n",
        "#@markdown  - AND : FALSE\n",
        "#@markdown  - OR : TRUE\n",
        "#@markdown  - NOT p : FALSE\n",
        "#@markdown  - IMPLIES : FALSE\n",
        "print(\"AND:\", and_operation(p, q))         # False\n",
        "print(\"OR:\", or_operation(p, q))           # True\n",
        "print(\"NOT p:\", not_operation(p))         # False\n",
        "print(\"IMPLIES:\", implies_operation(p, q)) # False\n"
      ],
      "metadata": {
        "colab": {
          "base_uri": "https://localhost:8080/"
        },
        "cellView": "form",
        "id": "_BIs9jk7K5LH",
        "outputId": "b4f17d3b-2c08-4a49-b74a-b969bc336586"
      },
      "execution_count": 19,
      "outputs": [
        {
          "output_type": "stream",
          "name": "stdout",
          "text": [
            "AND: False\n",
            "OR: True\n",
            "NOT p: False\n",
            "IMPLIES: False\n"
          ]
        }
      ]
    },
    {
      "cell_type": "code",
      "source": [
        "#@title # **2. Evaluate Logical Statements**\n",
        "#@markdown # **Explanation:**\n",
        "#@markdown - This function allows you to input logical expressions in string form (like `\"p and q or not r\"`) and evaluate them based on a dictionary of variable values. This dynamic evaluation helps in testing various logical scenarios efficiently.\n",
        "\n",
        "import re\n",
        "\n",
        "def evaluate(statement, values):\n",
        "    \"\"\"\n",
        "    Evaluate a logical statement based on given truth values.\n",
        "\n",
        "    :param statement: str, logical expression using variables.\n",
        "    :param values: dict, mapping variables to their truth values.\n",
        "    :return: bool, evaluated truth value of the statement.\n",
        "    \"\"\"\n",
        "    # Replace variable names with their corresponding boolean values\n",
        "    for var, val in values.items():\n",
        "        # Use word boundaries to avoid partial replacements\n",
        "        statement = re.sub(rf'\\b{var}\\b', str(val), statement)\n",
        "\n",
        "    # Replace logical operators to match Python syntax\n",
        "    statement = statement.replace('AND', 'and').replace('OR', 'or').replace('NOT', 'not')\n",
        "\n",
        "    try:\n",
        "        # Evaluate the final expression\n",
        "        return eval(statement)\n",
        "    except SyntaxError as e:\n",
        "        print(f\"SyntaxError: {e}\")\n",
        "        return None\n",
        "\n"
      ],
      "metadata": {
        "id": "pLNe2cTiMTif"
      },
      "execution_count": 12,
      "outputs": []
    },
    {
      "cell_type": "code",
      "source": [
        "#@title **2. Evaluate Logical Statements (Example Usage)**\n",
        "#@markdown # **Values:**\n",
        "p = \"True\" #@param [\"True\"] {allow-input: false}\n",
        "q = \"False\" #@param [\"False\"] {allow-input: false}\n",
        "r = \"True\" #@param [\"True\"] {allow-input: false}\n",
        "#@markdown - Expected output: FALSE\n",
        "\n",
        "# Logical statement and values\n",
        "statement = \"(p and q) or not r\"\n",
        "values = {'p': True, 'q': False, 'r': True}\n",
        "\n",
        "# Evaluate the statement\n",
        "print(\"Evaluation Result:\", evaluate(statement, values))  # Expected output: False\n"
      ],
      "metadata": {
        "colab": {
          "base_uri": "https://localhost:8080/"
        },
        "cellView": "form",
        "id": "CFDsULxBMoT3",
        "outputId": "8c46f370-14c2-41b7-c626-36d4df915986"
      },
      "execution_count": 13,
      "outputs": [
        {
          "output_type": "stream",
          "name": "stdout",
          "text": [
            "Evaluation Result: False\n"
          ]
        }
      ]
    },
    {
      "cell_type": "code",
      "source": [
        "#@title # **3. Extend to Predicate Logic**\n",
        "#@markdown # **Explanation:**\n",
        "#@markdown - Predicate logic involves statements about objects and their properties. Functions like `forall` and `exists` let us test predicates (like `x > 3`) across a range of values. `forall` checks if the predicate is true for every element, while `exists` checks if it's true for at least one element.\n",
        "\n",
        "def forall(predicate, domain):\n",
        "    \"\"\"\n",
        "    Check if a predicate is true for all elements in a domain.\n",
        "\n",
        "    :param predicate: function, predicate to apply on elements.\n",
        "    :param domain: list, elements over which to apply the predicate.\n",
        "    :return: bool, True if predicate holds for all elements.\n",
        "    \"\"\"\n",
        "    return all(predicate(x) for x in domain)\n",
        "\n",
        "def exists(predicate, domain):\n",
        "    \"\"\"\n",
        "    Check if a predicate is true for at least one element in a domain.\n",
        "\n",
        "    :param predicate: function, predicate to apply on elements.\n",
        "    :param domain: list, elements over which to apply the predicate.\n",
        "    :return: bool, True if predicate holds for at least one element.\n",
        "    \"\"\"\n",
        "    return any(predicate(x) for x in domain)\n"
      ],
      "metadata": {
        "id": "TcgKzFwkOB0I"
      },
      "execution_count": 16,
      "outputs": []
    },
    {
      "cell_type": "code",
      "source": [
        "#@title **3. Extend to Predicate Logic (Example Usage)**\n",
        "\n",
        "#@markdown # **Domain:**\n",
        "D1 = 1 #@param [\"1\"] {allow-input: false}\n",
        "D2 = 2 #@param [\"2\"] {allow-input: false}\n",
        "D3 = 3 #@param [\"3\"] {allow-input: false}\n",
        "D4 = 4 #@param [\"4\"] {allow-input: false}\n",
        "D5 = 5 #@param [\"5\"] {allow-input: false}\n",
        "\n",
        "domain = [D1, D2, D3, D4, D5]\n",
        "predicate = lambda x: x > 3\n",
        "\n",
        "#@markdown - ### Expected Outputs:\n",
        "#@markdown  - FOR ALL : FALSE\n",
        "#@markdown  - EXISTS : TRUE\n",
        "\n",
        "print(\"FOR ALL:\", forall(predicate, domain)) # False\n",
        "print(\"EXISTS:\", exists(predicate, domain))  # True\n"
      ],
      "metadata": {
        "colab": {
          "base_uri": "https://localhost:8080/"
        },
        "cellView": "form",
        "id": "1SEbovpeOKmX",
        "outputId": "2963b987-33ee-4d53-9d9e-a7bef2525ab1"
      },
      "execution_count": 18,
      "outputs": [
        {
          "output_type": "stream",
          "name": "stdout",
          "text": [
            "FOR ALL: False\n",
            "EXISTS: True\n"
          ]
        }
      ]
    },
    {
      "cell_type": "code",
      "source": [
        "#@title # **4. AI Agent Development**\n",
        "#@markdown # **Explanation:**\n",
        "#@markdown - This AI agent makes decisions based on a predefined scenario and current conditions. For example, in a game scenario, it might choose to attack if there's an enemy or gather resources if not. In an environmental scenario, it adapts to the weather conditions.\n",
        "\n",
        "#@markdown ## **Select Scenario:**\n",
        "scenario = \"environment\" #@param [\"game\", \"environment\"] {allow-input: true}\n",
        "\n",
        "class SimpleAI:\n",
        "    def __init__(self, scenario):\n",
        "        \"\"\"\n",
        "        Initialize the AI agent with a scenario.\n",
        "\n",
        "        :param scenario: str, defines the context of decision-making.\n",
        "        \"\"\"\n",
        "        self.scenario = scenario\n",
        "\n",
        "    def decide(self, conditions):\n",
        "        \"\"\"\n",
        "        Decide an action based on the current conditions and scenario.\n",
        "\n",
        "        :param conditions: dict, mapping conditions to their truth values.\n",
        "        :return: str, the chosen action.\n",
        "        \"\"\"\n",
        "        if self.scenario == \"game\":\n",
        "            if conditions['has_enemy']:\n",
        "                return \"Attack\"\n",
        "            elif conditions['has_resources']:\n",
        "                return \"Gather Resources\"\n",
        "            else:\n",
        "                return \"Explore\"\n",
        "        elif self.scenario == \"environment\":\n",
        "            if conditions['weather'] == \"rainy\":\n",
        "                return \"Stay Inside\"\n",
        "            elif conditions['weather'] == \"sunny\":\n",
        "                return \"Go Out\"\n",
        "            else:\n",
        "                return \"Check Weather\""
      ],
      "metadata": {
        "id": "sMCJ36pJQD0g"
      },
      "execution_count": 35,
      "outputs": []
    },
    {
      "cell_type": "code",
      "source": [
        "#@title **4. AI Agent Development (Example Usage)**\n",
        "#@markdown # **Set the Conditions:**\n",
        "# Set the condition for \"has_enemy\" in the game scenario\n",
        "has_enemy = \"False\"  #@param [\"True\", \"False\"] {allow-input: true}\n",
        "\n",
        "# Set the condition for \"has_resources\" in the game scenario\n",
        "has_resources = \"True\" #@param [\"True\", \"False\"] {allow-input: true}\n",
        "\n",
        "# Set the weather condition for the environment scenario\n",
        "weather = \"sunny\" #@param [\"rainy\", \"sunny\", \"unknown\"] {allow-input: true}\n",
        "\n",
        "# Initialize AI based on the chosen scenario\n",
        "ai = SimpleAI(scenario)\n",
        "\n",
        "# Set conditions based on the scenario\n",
        "if scenario == \"game\":\n",
        "    conditions = {'has_enemy': has_enemy == \"True\", 'has_resources': has_resources == \"True\"}\n",
        "elif scenario == \"environment\":\n",
        "    conditions = {'weather': weather}\n",
        "\n",
        "# Make and print the AI decision\n",
        "print(\"AI Decision:\", ai.decide(conditions))\n",
        "\n"
      ],
      "metadata": {
        "colab": {
          "base_uri": "https://localhost:8080/"
        },
        "cellView": "form",
        "id": "9sPbqA5PQ__3",
        "outputId": "14b12f70-2d47-47db-d53f-5455810c0c9a"
      },
      "execution_count": 38,
      "outputs": [
        {
          "output_type": "stream",
          "name": "stdout",
          "text": [
            "AI Decision: Go Out\n"
          ]
        }
      ]
    }
  ]
}