{
  "nbformat": 4,
  "nbformat_minor": 0,
  "metadata": {
    "colab": {
      "provenance": []
    },
    "kernelspec": {
      "name": "python3",
      "display_name": "Python 3"
    },
    "language_info": {
      "name": "python"
    }
  },
  "cells": [
    {
      "cell_type": "markdown",
      "source": [
        "# **`Notebook Information`**\n",
        "- **Name:** Mhar Andrei Consebido Macapallag\n",
        "- **Y&S:** BSCS 3B IS\n",
        "- **Course:** CSST 101 | Advance Presentation Reasoning\n",
        "- **Topic:** Topic 1.2: Logic Based Presentation\n",
        "- **Due date:** N/A"
      ],
      "metadata": {
        "id": "N_4BdTxT_IFw"
      }
    },
    {
      "cell_type": "markdown",
      "source": [
        "# **`Laboratory Exercise 1: Propositional Logic in Python`**\n",
        "## **Task:**\n",
        "1. Represent the following statements using propositional logic\n",
        "- \"If it rains, the ground will be wet.\"\n",
        "- \"If the ground is wet, the match will not light.\"\n",
        "- \"It is raining.\"\n",
        "\n",
        "2. Implement this using Python to simulate the conditions and use simple logical inference (e.g. using if statements) to determine if the match will light or not.\n",
        "\n",
        "**Instructions:**\n",
        "- Write Python code to evalute the logical conditions\n",
        "- Use basic Boolean expressions to check if the match lights based on the given conditions."
      ],
      "metadata": {
        "id": "iLRhgTipw1LI"
      }
    },
    {
      "source": [
        "#@title **Exercise #1 Solution:**\n",
        "# Define propositions\n",
        "#@markdown # **Is it:**\n",
        "raining = True #@param {type:\"boolean\"}\n",
        "\n",
        "# Function to determine if the ground is wet based on rain\n",
        "def is_ground_wet(raining):\n",
        "    return raining  # If it's raining, the ground is wet\n",
        "\n",
        "# Function to determine if the match will light based on the ground's state\n",
        "def can_match_light(ground_is_wet):\n",
        "    return not ground_is_wet  # The match lights only if the ground is not wet\n",
        "\n",
        "# Main logic to simulate the conditions\n",
        "ground_is_wet = is_ground_wet(raining)\n",
        "match_lights = can_match_light(ground_is_wet)\n",
        "\n",
        "if match_lights:\n",
        "    print(\"The match will light.\")\n",
        "else:\n",
        "    print(\"The match will not light.\")"
      ],
      "cell_type": "code",
      "metadata": {
        "colab": {
          "base_uri": "https://localhost:8080/"
        },
        "cellView": "form",
        "id": "b6vyKiIUyyOj",
        "outputId": "2abca278-130c-41ca-f962-3d68f82bcb7c"
      },
      "execution_count": 2,
      "outputs": [
        {
          "output_type": "stream",
          "name": "stdout",
          "text": [
            "The match will not light.\n"
          ]
        }
      ]
    },
    {
      "cell_type": "markdown",
      "source": [
        "# **`Laboratory Exercise #2: Predicate Logic Representation`**\n",
        "- \"All humans are mortal.\"\n",
        "- \"Socrates is a human.\"\n",
        "- \"Therefore, Socrates is mortal.\""
      ],
      "metadata": {
        "id": "B9jaAiIOzYRW"
      }
    },
    {
      "cell_type": "code",
      "source": [
        "#@title **Exercise #2 Solution:**\n",
        "\n",
        "person = \"Socrates\" #@param {type:\"string\"}\n",
        "\n",
        "def is_human(person):\n",
        "    return person == \"Socrates\"  # Returns True if the person is Socrates\n",
        "\n",
        "def is_mortal(person):\n",
        "    return is_human(person)  # A human is considered mortal\n",
        "\n",
        "# Check if the person is mortal and print the result\n",
        "if is_mortal(person):\n",
        "    print(f\"{person} is a mortal.\")\n",
        "else:\n",
        "    print(f\"{person} is not a mortal.\")\n"
      ],
      "metadata": {
        "colab": {
          "base_uri": "https://localhost:8080/"
        },
        "cellView": "form",
        "id": "7oy6K4WazzR-",
        "outputId": "607cd23f-0e65-4114-9d4a-6d0d68758e91"
      },
      "execution_count": 4,
      "outputs": [
        {
          "output_type": "stream",
          "name": "stdout",
          "text": [
            "Socrates is a mortal.\n"
          ]
        }
      ]
    },
    {
      "cell_type": "markdown",
      "source": [
        "# **`Laboratory Exercise #3: Inference Techniques in Logic-Based Systems`**\n",
        "\n",
        "- Rule: \"If X is true, then Y is true.\"\n",
        "- Fact: \"X is true.\"\n",
        "- Conclusion: \"Y is true"
      ],
      "metadata": {
        "id": "iUwsZd2Wz4xQ"
      }
    },
    {
      "cell_type": "code",
      "source": [
        "#@title **Exercise #3 Solution**\n",
        "\n",
        "# Function to perform modus ponens\n",
        "def modus_ponens(rules, facts):\n",
        "    conclusions = []  # Initialize an empty list to store conclusions\n",
        "    for rule in rules:\n",
        "        premise, conclusion = rule\n",
        "        if premise in facts:  # Check if the premise is in the facts\n",
        "            conclusions.append(conclusion)  # Add conclusion if the premise is found\n",
        "    return conclusions\n",
        "\n",
        "#@markdown # **Rules and Facts:**\n",
        "\n",
        "# Input for rules and facts\n",
        "rules_input = \"Dog,Cat\"  #@param {type:\"string\", default:\"X,Y\"}\n",
        "facts_input = \"Dog\"  #@param {type:\"string\", default:\"X\"}\n",
        "\n",
        "# Parse the rules input\n",
        "rules = [tuple(rule.split(',')) for rule in rules_input.split(';')]\n",
        "\n",
        "# Parse the facts input\n",
        "facts = facts_input.split(',')\n",
        "\n",
        "# Get the inferred conclusions\n",
        "conclusions = modus_ponens(rules, facts)\n",
        "print(\"Inferred Conclusions: \", conclusions)\n"
      ],
      "metadata": {
        "cellView": "form",
        "id": "VBzabn8p0Abo",
        "colab": {
          "base_uri": "https://localhost:8080/"
        },
        "outputId": "b44e96e5-e508-4794-af35-6ca72b1603cf"
      },
      "execution_count": 21,
      "outputs": [
        {
          "output_type": "stream",
          "name": "stdout",
          "text": [
            "Inferred Conclusions:  ['Cat']\n"
          ]
        }
      ]
    },
    {
      "cell_type": "markdown",
      "source": [
        "# **`Laboratory Exercise #4: ?`**\n",
        "\n",
        "- \"If a person is hungry, they will eat.\"\n",
        "- \"If a person eats, they will no longer be hungry.\"\n",
        "- \"John is hungry.\""
      ],
      "metadata": {
        "id": "DWBdn_7GAqfX"
      }
    },
    {
      "cell_type": "code",
      "source": [
        "#@title **Exercise #4 Solution:**\n",
        "\n",
        "# Define the initial state\n",
        "john_is_hungry = True  #@param {type:\"boolean\"}\n",
        "\n",
        "# Function to determine if John has eaten\n",
        "def has_eaten(john_is_hungry):\n",
        "    return not john_is_hungry  # John has eaten if he is not hungry\n",
        "\n",
        "# Determine John's current state based on his hunger\n",
        "if john_is_hungry:\n",
        "    # John is hungry, so he hasn't eaten\n",
        "    print(\"John is hungry and has not eaten yet.\")\n",
        "else:\n",
        "    # John is not hungry, so he has eaten\n",
        "    print(\"John has already eaten and is no longer hungry.\")\n"
      ],
      "metadata": {
        "colab": {
          "base_uri": "https://localhost:8080/"
        },
        "cellView": "form",
        "id": "z1ZrUGQFBCB4",
        "outputId": "be7eb8e3-6886-492d-c214-01d9a298502d"
      },
      "execution_count": 10,
      "outputs": [
        {
          "output_type": "stream",
          "name": "stdout",
          "text": [
            "John is hungry and has not eaten yet.\n"
          ]
        }
      ]
    },
    {
      "cell_type": "markdown",
      "source": [
        "# **`Implement a Logic-Based Model in Python`**"
      ],
      "metadata": {
        "id": "s2dj7AEqEkN5"
      }
    },
    {
      "cell_type": "code",
      "source": [
        "#@title **Logic-Based Model Solution:**\n",
        "\n",
        "# Install NLTK and download necessary resources\n",
        "!pip install nltk\n",
        "\n",
        "import nltk\n",
        "nltk.download('vader_lexicon')\n",
        "\n",
        "from nltk.sentiment import SentimentIntensityAnalyzer\n",
        "import random\n",
        "\n",
        "from IPython.display import clear_output\n",
        "\n",
        "# Clear the output of the current cell\n",
        "clear_output()\n",
        "\n",
        "# Initialize sentiment analyzer\n",
        "sia = SentimentIntensityAnalyzer()\n",
        "\n",
        "# Define different types of responses\n",
        "greetings = [\"Hello\", \"Hi\", \"Hey\", \"Greetings\", \"Salutations\"]\n",
        "farewells = [\"Goodbye\", \"See you later\", \"Farewell\", \"Take care\"]\n",
        "thank_yous = [\"Thank you\", \"Thanks\", \"Much appreciated\"]\n",
        "complaints = [\"I am not happy\", \"This is disappointing\", \"I have a complaint\"]\n",
        "\n",
        "def classify_statement(statement):\n",
        "    \"\"\"Classify the type of statement based on keywords and sentiment analysis.\"\"\"\n",
        "    statement = statement.lower()\n",
        "    if any(greeting.lower() in statement for greeting in greetings):\n",
        "        return \"greeting\"\n",
        "    elif any(farewell.lower() in statement for farewell in farewells):\n",
        "        return \"farewell\"\n",
        "    elif any(thank_you.lower() in statement for thank_you in thank_yous):\n",
        "        return \"thank_you\"\n",
        "    elif any(complaint.lower() in statement for complaint in complaints):\n",
        "        return \"complaint\"\n",
        "    else:\n",
        "        sentiment = sia.polarity_scores(statement)\n",
        "        if sentiment['compound'] >= 0.05:\n",
        "            return \"positive_feedback\"\n",
        "        elif sentiment['compound'] <= -0.05:\n",
        "            return \"negative_feedback\"\n",
        "        else:\n",
        "            return \"neutral\"\n",
        "\n",
        "def generate_response(statement_type):\n",
        "    \"\"\"Random response based sa mga input.\"\"\"\n",
        "    responses = {\n",
        "        \"greeting\": [\"Hello! How can I assist you today?\", \"Hi there! What can I do for you?\", \"Hey! How's it going?\"],\n",
        "        \"farewell\": [\"Goodbye! Have a great day!\", \"See you later! Take care!\", \"Farewell! Until next time!\"],\n",
        "        \"thank_you\": [\"You're welcome!\", \"Glad I could help!\", \"No problem!\"],\n",
        "        \"complaint\": [\"I'm sorry to hear that. Can you provide more details?\", \"I apologize for the inconvenience. How can I assist you further?\"],\n",
        "        \"positive_feedback\": [\"Thank you for the positive feedback!\", \"I'm glad to hear you're satisfied!\", \"Great to hear you're happy with the service!\"],\n",
        "        \"negative_feedback\": [\"I'm sorry to hear that you're not satisfied. How can we improve?\", \"Your feedback is important. Can you tell us more about what went wrong?\"],\n",
        "        \"neutral\": [\"I see. Is there anything else you would like to discuss?\", \"Thank you for your input. How can I help you further?\"]\n",
        "    }\n",
        "    return random.choice(responses.get(statement_type, responses[\"neutral\"]))\n",
        "\n",
        "# Input from the user\n",
        "user_input = \"I have a complaint\" #@param {type:\"string\"}\n",
        "\n",
        "# Classify the user's statement and generate a response\n",
        "statement_type = classify_statement(user_input)\n",
        "response = generate_response(statement_type)\n",
        "\n",
        "print(f\"Chatbot: {response}\")\n"
      ],
      "metadata": {
        "colab": {
          "base_uri": "https://localhost:8080/"
        },
        "cellView": "form",
        "id": "9qRExTfiEqRW",
        "outputId": "91b8febf-db5a-43f6-cb7d-c5bea3677b6d"
      },
      "execution_count": 18,
      "outputs": [
        {
          "output_type": "stream",
          "name": "stdout",
          "text": [
            "Chatbot: I'm sorry to hear that. Can you provide more details?\n"
          ]
        }
      ]
    },
    {
      "cell_type": "markdown",
      "source": [
        "# **`Case Study Discussion`**\n",
        "## **Objective:**\n",
        "- Analyze a real-world case study where logic-based models are used for decision making (e.g in AI Systems or expert systems).\n",
        "\n",
        "## **Tasks:**\n",
        "1. Study an AI system that uses logic-based reasoning (e.g. expert systems, chatbots).\n",
        "2. Discuss how propositional or predicate logic is applied in such systems.\n",
        "3. Reflect on the advantages, and challenges of using logic-based models in real-world applications."
      ],
      "metadata": {
        "id": "vPQxaL2CFiN9"
      }
    },
    {
      "cell_type": "markdown",
      "source": [
        "## **1. Case Study: Expert Systems in AI**\n",
        "Expert systems are a prominent application of AI that employs logic-based reasoning to solve complex problems. Two notable examples include:\n",
        "\n",
        "- **DENDRAL:** Designed for chemical analysis, predicting molecular structures based on chemical data.\n",
        "- **MYCIN:** An early AI program that diagnosed bacterial infections and recommended antibiotics.\n",
        "\n",
        "### **Real-World Implementation**\n",
        "- **DENDRAL:** Utilizes a knowledge base of chemical compounds and inference rules to analyze molecular structures.\n",
        "  \n",
        "- **MYCIN:** Employs a rule-based system to evaluate patient symptoms and suggest appropriate treatments, demonstrating the power of logical reasoning in medical diagnostics.\n",
        "\n",
        "## **2. Application of Logic in AI Systems**\n",
        "### **Propositional Logic:**\n",
        "Propositional logic simplifies complex statements into true/false propositions, enabling structured knowledge representation and reasoning in AI. For instance, it can represent rules like:\n",
        "\n",
        "```python\n",
        "# Example of Propositional Logic\n",
        "has_fever = True\n",
        "if has_fever:\n",
        "    print(\"The patient may have an infection.\")\n",
        "\n",
        "```\n",
        "### **Predicate Logic:**\n",
        "Predicate logic extends propositional logic by introducing predicates to express knowledge about the world, allowing for more complex reasoning. For example:\n",
        "```python\n",
        "# Example of Predicate Logic\n",
        "def may_have_infection(patient_symptoms):\n",
        "    if \"fever\" in patient_symptoms:\n",
        "        return True\n",
        "    return False\n",
        "\n",
        "# Usage\n",
        "patient_symptoms = [\"fever\", \"cough\"]\n",
        "if may_have_infection(patient_symptoms):\n",
        "    print(\"The patient may have an infection.\")\n",
        "```\n",
        "## **3. Advantages and Challenges**\n",
        "### **Advantages:**\n",
        "- **Structured Knowledge Representation:** Logic-based models provide a clear framework for encoding knowledge, making it easier to manage and retrieve information.\n",
        "- **Enhanced Decision-Making:** These models facilitate systematic reasoning, which can lead to more accurate and consistent decisions.\n",
        "- **Bias Reduction:** By relying on logical rules, these systems can minimize human biases and errors in judgment.\n",
        "\n",
        "### **Challenges:**\n",
        "- **Knowledge Base Development:** Creating an accurate and comprehensive knowledge base requires extensive domain expertise and can be time-consuming.\n",
        "- **Handling Ambiguity:** Logic-based systems may struggle with ambiguous or incomplete information, which is common in real-world scenarios.\n",
        "- **Complexity in Maintenance:** As the number of rules increases, maintaining and updating the system can become unwieldy, complicating the inference process.\n"
      ],
      "metadata": {
        "id": "db2tkIWI55WB"
      }
    }
  ]
}